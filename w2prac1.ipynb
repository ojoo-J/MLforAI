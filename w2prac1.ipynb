{
  "cells": [
    {
      "cell_type": "markdown",
      "metadata": {
        "id": "sxxBGwuLyJL7"
      },
      "source": [
        "# Python 101\n",
        "\n",
        "This is an optional notebook to get you up to speed with Python in case you are new to Python or need a refresher. The material here is a crash course in Python; I highly recommend the [official Python tutorial](https://docs.python.org/3/tutorial/) for a deeper dive. Consider reading [this page](https://docs.python.org/3/tutorial/appetite.html) in the Python docs for background on Python and bookmarking the [glossary](https://docs.python.org/3/glossary.html#glossary).\n",
        "\n",
        "## Basic data types\n",
        "### Numbers\n",
        "Numbers in Python can be represented as integers (e.g. `5`) or floats (e.g. `5.0`). We can perform operations on them:"
      ]
    },
    {
      "cell_type": "code",
      "execution_count": 2,
      "metadata": {
        "id": "I60ecUlHyJL_",
        "outputId": "4b145bad-a518-4b4c-9c6c-ea34c96fc2be",
        "colab": {
          "base_uri": "https://localhost:8080/"
        }
      },
      "outputs": [
        {
          "output_type": "execute_result",
          "data": {
            "text/plain": [
              "11"
            ]
          },
          "metadata": {},
          "execution_count": 2
        }
      ],
      "source": [
        "5 + 6"
      ]
    },
    {
      "cell_type": "code",
      "execution_count": 3,
      "metadata": {
        "id": "sIIruavOyJMA",
        "outputId": "09d82e25-5bbc-4bb4-fb5d-0754d205b006",
        "colab": {
          "base_uri": "https://localhost:8080/"
        }
      },
      "outputs": [
        {
          "output_type": "execute_result",
          "data": {
            "text/plain": [
              "0.8333333333333334"
            ]
          },
          "metadata": {},
          "execution_count": 3
        }
      ],
      "source": [
        "2.5 / 3"
      ]
    },
    {
      "cell_type": "markdown",
      "metadata": {
        "id": "wtId40AZyJMB"
      },
      "source": [
        "### Booleans\n",
        "\n",
        "We can check for equality giving us a Boolean:"
      ]
    },
    {
      "cell_type": "code",
      "execution_count": 4,
      "metadata": {
        "id": "fVEgl7mtyJMB",
        "outputId": "a320ce86-c0a6-4476-b170-531ed619b217",
        "colab": {
          "base_uri": "https://localhost:8080/"
        }
      },
      "outputs": [
        {
          "output_type": "execute_result",
          "data": {
            "text/plain": [
              "False"
            ]
          },
          "metadata": {},
          "execution_count": 4
        }
      ],
      "source": [
        "5 == 6"
      ]
    },
    {
      "cell_type": "code",
      "execution_count": 5,
      "metadata": {
        "id": "XcHNSND3yJMC",
        "outputId": "15738a6c-8b95-47e8-dfc6-d1d3aa15d59f",
        "colab": {
          "base_uri": "https://localhost:8080/"
        }
      },
      "outputs": [
        {
          "output_type": "execute_result",
          "data": {
            "text/plain": [
              "True"
            ]
          },
          "metadata": {},
          "execution_count": 5
        }
      ],
      "source": [
        "5 < 6"
      ]
    },
    {
      "cell_type": "markdown",
      "metadata": {
        "id": "bEuGwv-qyJMC"
      },
      "source": [
        "These statements can be combined with logical operators: `not`, `and`, `or`"
      ]
    },
    {
      "cell_type": "code",
      "execution_count": 6,
      "metadata": {
        "id": "o0K0kPTYyJMD",
        "outputId": "fd3105df-3f1a-4f41-847d-9a4fd3a2ab87",
        "colab": {
          "base_uri": "https://localhost:8080/"
        }
      },
      "outputs": [
        {
          "output_type": "execute_result",
          "data": {
            "text/plain": [
              "True"
            ]
          },
          "metadata": {},
          "execution_count": 6
        }
      ],
      "source": [
        "(5 < 6) and not (5 == 6)"
      ]
    },
    {
      "cell_type": "code",
      "execution_count": 7,
      "metadata": {
        "id": "ZW72iZPKyJMD",
        "outputId": "1bd6a429-c4bf-4b6d-b919-8cef5720c944",
        "colab": {
          "base_uri": "https://localhost:8080/"
        }
      },
      "outputs": [
        {
          "output_type": "execute_result",
          "data": {
            "text/plain": [
              "True"
            ]
          },
          "metadata": {},
          "execution_count": 7
        }
      ],
      "source": [
        "False or True"
      ]
    },
    {
      "cell_type": "code",
      "execution_count": 8,
      "metadata": {
        "id": "suRIuERDyJME",
        "outputId": "ccae049c-a71c-4dff-aafa-bb735603f65b",
        "colab": {
          "base_uri": "https://localhost:8080/"
        }
      },
      "outputs": [
        {
          "output_type": "execute_result",
          "data": {
            "text/plain": [
              "True"
            ]
          },
          "metadata": {},
          "execution_count": 8
        }
      ],
      "source": [
        "True or False"
      ]
    },
    {
      "cell_type": "markdown",
      "metadata": {
        "id": "jBY0Q8UzyJME"
      },
      "source": [
        "### Strings\n",
        "Using strings, we can handle text in Python. These values must be surrounded in quotes &mdash; single (`'...'`) is the standard, but double (`\"...\"`) works as well:"
      ]
    },
    {
      "cell_type": "code",
      "execution_count": 9,
      "metadata": {
        "id": "--Pzr1qpyJMF",
        "outputId": "3259dacb-2efa-4f81-dea6-fe05c87bfe4c",
        "colab": {
          "base_uri": "https://localhost:8080/",
          "height": 36
        }
      },
      "outputs": [
        {
          "output_type": "execute_result",
          "data": {
            "text/plain": [
              "'hello'"
            ],
            "application/vnd.google.colaboratory.intrinsic+json": {
              "type": "string"
            }
          },
          "metadata": {},
          "execution_count": 9
        }
      ],
      "source": [
        "'hello'"
      ]
    },
    {
      "cell_type": "markdown",
      "metadata": {
        "id": "X7o9lmI-yJMF"
      },
      "source": [
        "We can also perform operations on strings. For example, we can see how long it is with `len()`:"
      ]
    },
    {
      "cell_type": "code",
      "execution_count": 10,
      "metadata": {
        "id": "62dBhcpFyJMF",
        "outputId": "df4a7c9a-cb6f-4e6f-c9c0-cb261ce3d780",
        "colab": {
          "base_uri": "https://localhost:8080/"
        }
      },
      "outputs": [
        {
          "output_type": "execute_result",
          "data": {
            "text/plain": [
              "5"
            ]
          },
          "metadata": {},
          "execution_count": 10
        }
      ],
      "source": [
        "len('hello')"
      ]
    },
    {
      "cell_type": "markdown",
      "metadata": {
        "id": "30OSS96WyJMG"
      },
      "source": [
        "We can select parts of the string by specifying the **index**. Note that in Python the 1<sup>st</sup> character is at index 0:"
      ]
    },
    {
      "cell_type": "code",
      "execution_count": 11,
      "metadata": {
        "id": "B-HkBHTzyJMG",
        "outputId": "a35cad89-0b84-41da-ba2c-baec0816f772",
        "colab": {
          "base_uri": "https://localhost:8080/",
          "height": 36
        }
      },
      "outputs": [
        {
          "output_type": "execute_result",
          "data": {
            "text/plain": [
              "'h'"
            ],
            "application/vnd.google.colaboratory.intrinsic+json": {
              "type": "string"
            }
          },
          "metadata": {},
          "execution_count": 11
        }
      ],
      "source": [
        "'hello'[0]"
      ]
    },
    {
      "cell_type": "markdown",
      "metadata": {
        "id": "rl1R2_OKyJMG"
      },
      "source": [
        "We can concatentate strings with `+`:"
      ]
    },
    {
      "cell_type": "code",
      "execution_count": 12,
      "metadata": {
        "id": "u94fj9fHyJMG",
        "outputId": "8923cc38-7d74-4287-9f0b-2166117b080c",
        "colab": {
          "base_uri": "https://localhost:8080/",
          "height": 36
        }
      },
      "outputs": [
        {
          "output_type": "execute_result",
          "data": {
            "text/plain": [
              "'hello world'"
            ],
            "application/vnd.google.colaboratory.intrinsic+json": {
              "type": "string"
            }
          },
          "metadata": {},
          "execution_count": 12
        }
      ],
      "source": [
        "'hello' + ' ' + 'world'"
      ]
    },
    {
      "cell_type": "markdown",
      "metadata": {
        "id": "MNKI_ZPTyJMH"
      },
      "source": [
        "We can check if characters are in the string with the `in` operator:"
      ]
    },
    {
      "cell_type": "code",
      "execution_count": 13,
      "metadata": {
        "id": "aHYclMDvyJMH",
        "outputId": "4a85a018-4ca2-40b6-d2ab-8ce28160d1a6",
        "colab": {
          "base_uri": "https://localhost:8080/"
        }
      },
      "outputs": [
        {
          "output_type": "execute_result",
          "data": {
            "text/plain": [
              "True"
            ]
          },
          "metadata": {},
          "execution_count": 13
        }
      ],
      "source": [
        "'h' in 'hello'"
      ]
    },
    {
      "cell_type": "markdown",
      "metadata": {
        "id": "wfliDO0AyJMH"
      },
      "source": [
        "## Variables\n",
        "Notice that just typing text causes an error. Errors in Python attempt to clue us in to what went wrong with our code. In this case, we have a `NameError` exception which tells us that `'hello'` is not defined. This means that [the Python interpreter](https://docs.python.org/3/tutorial/interpreter.html) looked for a **variable** named `hello`, but it didn't find one."
      ]
    },
    {
      "cell_type": "code",
      "execution_count": 14,
      "metadata": {
        "id": "XYZeManpyJMI",
        "outputId": "5eb94e87-554a-4ef5-dbe9-66e819939e33",
        "colab": {
          "base_uri": "https://localhost:8080/",
          "height": 170
        }
      },
      "outputs": [
        {
          "output_type": "error",
          "ename": "NameError",
          "evalue": "ignored",
          "traceback": [
            "\u001b[0;31m---------------------------------------------------------------------------\u001b[0m",
            "\u001b[0;31mNameError\u001b[0m                                 Traceback (most recent call last)",
            "\u001b[0;32m<ipython-input-14-f572d396fae9>\u001b[0m in \u001b[0;36m<module>\u001b[0;34m\u001b[0m\n\u001b[0;32m----> 1\u001b[0;31m \u001b[0mhello\u001b[0m\u001b[0;34m\u001b[0m\u001b[0;34m\u001b[0m\u001b[0m\n\u001b[0m",
            "\u001b[0;31mNameError\u001b[0m: name 'hello' is not defined"
          ]
        }
      ],
      "source": [
        "hello"
      ]
    },
    {
      "cell_type": "markdown",
      "metadata": {
        "id": "dw14Te4RyJMI"
      },
      "source": [
        "Variables give us a way to store data types. We define a variable using the `variable_name = value` syntax:"
      ]
    },
    {
      "cell_type": "code",
      "execution_count": 15,
      "metadata": {
        "id": "_dr18ft6yJMI",
        "outputId": "8161af32-f9a0-4312-a4cb-7b101a6712dc",
        "colab": {
          "base_uri": "https://localhost:8080/"
        }
      },
      "outputs": [
        {
          "output_type": "execute_result",
          "data": {
            "text/plain": [
              "12"
            ]
          },
          "metadata": {},
          "execution_count": 15
        }
      ],
      "source": [
        "x = 5\n",
        "y = 7\n",
        "x + y"
      ]
    },
    {
      "cell_type": "markdown",
      "metadata": {
        "id": "CX9zCtHvyJMI"
      },
      "source": [
        "The variable name cannot contain spaces; we usually use `_` instead. The best variable names are descriptive ones:"
      ]
    },
    {
      "cell_type": "code",
      "execution_count": 16,
      "metadata": {
        "id": "72LFKu2cyJMJ"
      },
      "outputs": [],
      "source": [
        "book_title = 'Hands-On Data Analysis with Pandas'"
      ]
    },
    {
      "cell_type": "markdown",
      "metadata": {
        "id": "LuyXKTHLyJMJ"
      },
      "source": [
        "Variables can be any data type. We can check which one it is with `type()`, which is a **function** (more on that later):"
      ]
    },
    {
      "cell_type": "code",
      "execution_count": 17,
      "metadata": {
        "id": "Bk-cnbMtyJMJ",
        "outputId": "3fa21d15-8b9a-42f2-d71d-05d9f51880cc",
        "colab": {
          "base_uri": "https://localhost:8080/"
        }
      },
      "outputs": [
        {
          "output_type": "execute_result",
          "data": {
            "text/plain": [
              "int"
            ]
          },
          "metadata": {},
          "execution_count": 17
        }
      ],
      "source": [
        "type(x)"
      ]
    },
    {
      "cell_type": "code",
      "execution_count": 18,
      "metadata": {
        "id": "5oc7TvS1yJMJ",
        "outputId": "02c6d495-2c1a-4c69-af41-5003fade54be",
        "colab": {
          "base_uri": "https://localhost:8080/"
        }
      },
      "outputs": [
        {
          "output_type": "execute_result",
          "data": {
            "text/plain": [
              "str"
            ]
          },
          "metadata": {},
          "execution_count": 18
        }
      ],
      "source": [
        "type(book_title)"
      ]
    },
    {
      "cell_type": "markdown",
      "metadata": {
        "id": "AepR8L5IyJMJ"
      },
      "source": [
        "If we need to see the value of a variable, we can print it using the `print()` function:"
      ]
    },
    {
      "cell_type": "code",
      "execution_count": 19,
      "metadata": {
        "id": "QnGgSWwvyJMJ",
        "outputId": "9ac0d85b-bd32-4558-9d6e-04937c76046b",
        "colab": {
          "base_uri": "https://localhost:8080/"
        }
      },
      "outputs": [
        {
          "output_type": "stream",
          "name": "stdout",
          "text": [
            "Hands-On Data Analysis with Pandas\n"
          ]
        }
      ],
      "source": [
        "print(book_title)"
      ]
    },
    {
      "cell_type": "markdown",
      "metadata": {
        "id": "sulmSiEAyJMK"
      },
      "source": [
        "## Collections of Items\n",
        "\n",
        "### Lists\n",
        "We can store a collection of items in a list:"
      ]
    },
    {
      "cell_type": "code",
      "execution_count": 20,
      "metadata": {
        "id": "WUXrGbgCyJMK",
        "outputId": "a8df8659-2aae-40ed-cb58-ecb4359a8f65",
        "colab": {
          "base_uri": "https://localhost:8080/"
        }
      },
      "outputs": [
        {
          "output_type": "execute_result",
          "data": {
            "text/plain": [
              "['hello', ' ', 'world']"
            ]
          },
          "metadata": {},
          "execution_count": 20
        }
      ],
      "source": [
        "['hello', ' ', 'world']"
      ]
    },
    {
      "cell_type": "markdown",
      "metadata": {
        "id": "3uXFy4TvyJMK"
      },
      "source": [
        "The list can be stored in a variable. Note that the items in the list can be of different types:"
      ]
    },
    {
      "cell_type": "code",
      "execution_count": 21,
      "metadata": {
        "id": "-eAMS4xXyJMK",
        "outputId": "be1d05d2-9942-49ab-cc05-fcc8c9ceceb6",
        "colab": {
          "base_uri": "https://localhost:8080/"
        }
      },
      "outputs": [
        {
          "output_type": "execute_result",
          "data": {
            "text/plain": [
              "list"
            ]
          },
          "metadata": {},
          "execution_count": 21
        }
      ],
      "source": [
        "my_list = ['hello', 3.8, True, 'Python']\n",
        "type(my_list)"
      ]
    },
    {
      "cell_type": "markdown",
      "metadata": {
        "id": "-IG59_TVyJMK"
      },
      "source": [
        "We can see how many elements are in the list with `len()`:"
      ]
    },
    {
      "cell_type": "code",
      "execution_count": 22,
      "metadata": {
        "id": "YIrnEZP6yJML",
        "outputId": "eb52d693-08b4-44b3-a2fd-f947359f40bb",
        "colab": {
          "base_uri": "https://localhost:8080/"
        }
      },
      "outputs": [
        {
          "output_type": "execute_result",
          "data": {
            "text/plain": [
              "4"
            ]
          },
          "metadata": {},
          "execution_count": 22
        }
      ],
      "source": [
        "len(my_list)"
      ]
    },
    {
      "cell_type": "markdown",
      "metadata": {
        "id": "nx5azKX6yJML"
      },
      "source": [
        "We can also use the `in` operator to check if a value is in the list:"
      ]
    },
    {
      "cell_type": "code",
      "execution_count": 23,
      "metadata": {
        "id": "NZ8cD-FZyJML",
        "outputId": "d20888ff-92e3-4d3b-aed1-f01c09a07e8f",
        "colab": {
          "base_uri": "https://localhost:8080/"
        }
      },
      "outputs": [
        {
          "output_type": "execute_result",
          "data": {
            "text/plain": [
              "False"
            ]
          },
          "metadata": {},
          "execution_count": 23
        }
      ],
      "source": [
        "'world' in my_list"
      ]
    },
    {
      "cell_type": "markdown",
      "metadata": {
        "id": "SVKWcpQlyJML"
      },
      "source": [
        "We can select items in the list just as we did with strings, by providing the index to select:"
      ]
    },
    {
      "cell_type": "code",
      "execution_count": 24,
      "metadata": {
        "id": "QyE_y8KdyJML",
        "outputId": "fd5e2513-9cac-47c9-e710-abf0f00952a6",
        "colab": {
          "base_uri": "https://localhost:8080/"
        }
      },
      "outputs": [
        {
          "output_type": "execute_result",
          "data": {
            "text/plain": [
              "3.8"
            ]
          },
          "metadata": {},
          "execution_count": 24
        }
      ],
      "source": [
        "my_list[1]"
      ]
    },
    {
      "cell_type": "markdown",
      "metadata": {
        "id": "r0FsNd_3yJML"
      },
      "source": [
        "Python also allows us to use negative values, so we can easily select the last one:"
      ]
    },
    {
      "cell_type": "code",
      "execution_count": 25,
      "metadata": {
        "id": "8kvsTfIsyJMM",
        "outputId": "a17e9feb-f0d2-44f4-b600-a20bf3ed40a0",
        "colab": {
          "base_uri": "https://localhost:8080/",
          "height": 36
        }
      },
      "outputs": [
        {
          "output_type": "execute_result",
          "data": {
            "text/plain": [
              "'Python'"
            ],
            "application/vnd.google.colaboratory.intrinsic+json": {
              "type": "string"
            }
          },
          "metadata": {},
          "execution_count": 25
        }
      ],
      "source": [
        "my_list[-1]"
      ]
    },
    {
      "cell_type": "markdown",
      "metadata": {
        "id": "P7DrMtIxyJMM"
      },
      "source": [
        "Another powerful feature of lists (and strings) is **slicing**. We can grab the middle 2 elements in the list:"
      ]
    },
    {
      "cell_type": "code",
      "execution_count": 26,
      "metadata": {
        "id": "BPwJNqCDyJMM",
        "outputId": "7239f502-7f29-4b0b-f4de-e9dfb5beace2",
        "colab": {
          "base_uri": "https://localhost:8080/"
        }
      },
      "outputs": [
        {
          "output_type": "execute_result",
          "data": {
            "text/plain": [
              "[3.8, True]"
            ]
          },
          "metadata": {},
          "execution_count": 26
        }
      ],
      "source": [
        "my_list[1:3]"
      ]
    },
    {
      "cell_type": "markdown",
      "metadata": {
        "id": "pOPEgYbvyJMM"
      },
      "source": [
        "... or every other one:"
      ]
    },
    {
      "cell_type": "code",
      "execution_count": 27,
      "metadata": {
        "id": "3se3DdnYyJMM",
        "outputId": "b07d2d90-48ae-4e08-a2ef-f806e1ae88d4",
        "colab": {
          "base_uri": "https://localhost:8080/"
        }
      },
      "outputs": [
        {
          "output_type": "execute_result",
          "data": {
            "text/plain": [
              "['hello', True]"
            ]
          },
          "metadata": {},
          "execution_count": 27
        }
      ],
      "source": [
        "my_list[::2]"
      ]
    },
    {
      "cell_type": "markdown",
      "metadata": {
        "id": "CntYIdY3yJMM"
      },
      "source": [
        "We can even select the list in reverse:"
      ]
    },
    {
      "cell_type": "code",
      "execution_count": 28,
      "metadata": {
        "id": "QQ8NR9Y-yJMM",
        "outputId": "5c24dede-28dc-4205-ef41-3916d5977a1c",
        "colab": {
          "base_uri": "https://localhost:8080/"
        }
      },
      "outputs": [
        {
          "output_type": "execute_result",
          "data": {
            "text/plain": [
              "['Python', True, 3.8, 'hello']"
            ]
          },
          "metadata": {},
          "execution_count": 28
        }
      ],
      "source": [
        "my_list[::-1]"
      ]
    },
    {
      "cell_type": "markdown",
      "metadata": {
        "id": "a03QhH-ryJMN"
      },
      "source": [
        "Note: This syntax is `[start:stop:step]` where the selection is inclusive of the start index, but exclusive of the stop index. If `start` isn't provided, `0` is used. If `stop` isn't provided, the number of elements is used (4, in our case); this works because the `stop` is exclusive. If `step` isn't provided, it is 1.\n",
        "\n",
        "We can use the `join()` method on a string object to concatenate all the items of a list into single string. The string we call the `join()` method on will be used as the separator, here we separate with a pipe (|):"
      ]
    },
    {
      "cell_type": "code",
      "execution_count": 29,
      "metadata": {
        "id": "MnRwftJXyJMN",
        "outputId": "11e76f32-dfb3-40e9-be81-f2bcfb378b17",
        "colab": {
          "base_uri": "https://localhost:8080/",
          "height": 36
        }
      },
      "outputs": [
        {
          "output_type": "execute_result",
          "data": {
            "text/plain": [
              "'x|y|z'"
            ],
            "application/vnd.google.colaboratory.intrinsic+json": {
              "type": "string"
            }
          },
          "metadata": {},
          "execution_count": 29
        }
      ],
      "source": [
        "'|'.join(['x', 'y', 'z'])"
      ]
    },
    {
      "cell_type": "markdown",
      "metadata": {
        "id": "Z7M94xpjyJMN"
      },
      "source": [
        "### Tuples\n",
        "Tuples are similar to lists; however, they can't be modified after creation i.e. they are **immutable**. Instead of square brackets, we use parenthesis to create tuples:"
      ]
    },
    {
      "cell_type": "code",
      "execution_count": 30,
      "metadata": {
        "id": "0cVBFGPqyJMN",
        "outputId": "1f56eed7-31c8-41c5-d5f0-54c8d96cca7d",
        "colab": {
          "base_uri": "https://localhost:8080/"
        }
      },
      "outputs": [
        {
          "output_type": "execute_result",
          "data": {
            "text/plain": [
              "tuple"
            ]
          },
          "metadata": {},
          "execution_count": 30
        }
      ],
      "source": [
        "my_tuple = ('a', 5)\n",
        "type(my_tuple)"
      ]
    },
    {
      "cell_type": "code",
      "execution_count": 31,
      "metadata": {
        "id": "j8vkHzOuyJMN",
        "outputId": "13c5282a-4164-49fe-ce71-add1f7807a92",
        "colab": {
          "base_uri": "https://localhost:8080/",
          "height": 36
        }
      },
      "outputs": [
        {
          "output_type": "execute_result",
          "data": {
            "text/plain": [
              "'a'"
            ],
            "application/vnd.google.colaboratory.intrinsic+json": {
              "type": "string"
            }
          },
          "metadata": {},
          "execution_count": 31
        }
      ],
      "source": [
        "my_tuple[0]"
      ]
    },
    {
      "cell_type": "markdown",
      "metadata": {
        "id": "AFiSsk-dyJMO"
      },
      "source": [
        "Immutable objects can't be modified:"
      ]
    },
    {
      "cell_type": "code",
      "execution_count": 32,
      "metadata": {
        "id": "RjKrU7KnyJMO",
        "outputId": "d642f786-d740-4405-bc12-a145aac966f1",
        "colab": {
          "base_uri": "https://localhost:8080/",
          "height": 170
        }
      },
      "outputs": [
        {
          "output_type": "error",
          "ename": "TypeError",
          "evalue": "ignored",
          "traceback": [
            "\u001b[0;31m---------------------------------------------------------------------------\u001b[0m",
            "\u001b[0;31mTypeError\u001b[0m                                 Traceback (most recent call last)",
            "\u001b[0;32m<ipython-input-32-f792d047bcee>\u001b[0m in \u001b[0;36m<module>\u001b[0;34m\u001b[0m\n\u001b[0;32m----> 1\u001b[0;31m \u001b[0mmy_tuple\u001b[0m\u001b[0;34m[\u001b[0m\u001b[0;36m0\u001b[0m\u001b[0;34m]\u001b[0m \u001b[0;34m=\u001b[0m \u001b[0;34m'b'\u001b[0m\u001b[0;34m\u001b[0m\u001b[0;34m\u001b[0m\u001b[0m\n\u001b[0m",
            "\u001b[0;31mTypeError\u001b[0m: 'tuple' object does not support item assignment"
          ]
        }
      ],
      "source": [
        "my_tuple[0] = 'b'"
      ]
    },
    {
      "cell_type": "markdown",
      "metadata": {
        "id": "R0ph31dryJMO"
      },
      "source": [
        "### Dictionaries\n",
        "We can store mappings of key-value pairs using dictionaries:"
      ]
    },
    {
      "cell_type": "code",
      "execution_count": 33,
      "metadata": {
        "id": "2wOMpPngyJMO",
        "outputId": "64b3399c-cc61-499c-ec07-d5d87b73a4fa",
        "colab": {
          "base_uri": "https://localhost:8080/"
        }
      },
      "outputs": [
        {
          "output_type": "execute_result",
          "data": {
            "text/plain": [
              "dict"
            ]
          },
          "metadata": {},
          "execution_count": 33
        }
      ],
      "source": [
        "shopping_list = {\n",
        "    'veggies': ['spinach', 'kale', 'beets'],\n",
        "    'fruits': 'bananas',\n",
        "    'meat': 0    \n",
        "}\n",
        "type(shopping_list)"
      ]
    },
    {
      "cell_type": "markdown",
      "metadata": {
        "id": "01DNWOv7yJMO"
      },
      "source": [
        "To access the values associated with a specific key, we use the square bracket notation again:"
      ]
    },
    {
      "cell_type": "code",
      "execution_count": 34,
      "metadata": {
        "id": "bjmfLxhUyJMO",
        "outputId": "0d8bb028-d7c7-447b-8318-eedfc8a53ff9",
        "colab": {
          "base_uri": "https://localhost:8080/"
        }
      },
      "outputs": [
        {
          "output_type": "execute_result",
          "data": {
            "text/plain": [
              "['spinach', 'kale', 'beets']"
            ]
          },
          "metadata": {},
          "execution_count": 34
        }
      ],
      "source": [
        "shopping_list['veggies']"
      ]
    },
    {
      "cell_type": "markdown",
      "metadata": {
        "id": "f9w9ErUByJMP"
      },
      "source": [
        "We can extract all of the keys with `keys()`:"
      ]
    },
    {
      "cell_type": "code",
      "execution_count": 35,
      "metadata": {
        "id": "Oj8IJObbyJMP",
        "outputId": "74949224-52fb-4304-88bb-a0b4a1bf9158",
        "colab": {
          "base_uri": "https://localhost:8080/"
        }
      },
      "outputs": [
        {
          "output_type": "execute_result",
          "data": {
            "text/plain": [
              "dict_keys(['veggies', 'fruits', 'meat'])"
            ]
          },
          "metadata": {},
          "execution_count": 35
        }
      ],
      "source": [
        "shopping_list.keys()"
      ]
    },
    {
      "cell_type": "markdown",
      "metadata": {
        "id": "K_jUm_2oyJMP"
      },
      "source": [
        "We can extract all of the values with `values()`:"
      ]
    },
    {
      "cell_type": "code",
      "execution_count": 36,
      "metadata": {
        "id": "tLUsm6gPyJMP",
        "outputId": "adc5c53c-f973-4fd3-af79-77eb08a948b7",
        "colab": {
          "base_uri": "https://localhost:8080/"
        }
      },
      "outputs": [
        {
          "output_type": "execute_result",
          "data": {
            "text/plain": [
              "dict_values([['spinach', 'kale', 'beets'], 'bananas', 0])"
            ]
          },
          "metadata": {},
          "execution_count": 36
        }
      ],
      "source": [
        "shopping_list.values()"
      ]
    },
    {
      "cell_type": "markdown",
      "metadata": {
        "id": "JKspVpRcyJMP"
      },
      "source": [
        "Finally, we can call `items()` to get back pairs of (key, value) pairs:"
      ]
    },
    {
      "cell_type": "code",
      "execution_count": 37,
      "metadata": {
        "id": "OcAc31g8yJMP",
        "outputId": "ad5064e2-ed19-45f6-a09e-c9a5ac01e613",
        "colab": {
          "base_uri": "https://localhost:8080/"
        }
      },
      "outputs": [
        {
          "output_type": "execute_result",
          "data": {
            "text/plain": [
              "dict_items([('veggies', ['spinach', 'kale', 'beets']), ('fruits', 'bananas'), ('meat', 0)])"
            ]
          },
          "metadata": {},
          "execution_count": 37
        }
      ],
      "source": [
        "shopping_list.items()"
      ]
    },
    {
      "cell_type": "markdown",
      "metadata": {
        "id": "5dSuuqO9yJMP"
      },
      "source": [
        "### Sets\n",
        "A set is a collection of unique items; a common use is to remove duplicates from a list. These are written with curly braces also, but notice there is no key-value mapping:"
      ]
    },
    {
      "cell_type": "code",
      "execution_count": 38,
      "metadata": {
        "id": "2Hym9Bx2yJMQ",
        "outputId": "f99adc0e-756b-4bd3-e81b-445f360077ec",
        "colab": {
          "base_uri": "https://localhost:8080/"
        }
      },
      "outputs": [
        {
          "output_type": "execute_result",
          "data": {
            "text/plain": [
              "set"
            ]
          },
          "metadata": {},
          "execution_count": 38
        }
      ],
      "source": [
        "my_set = {1, 1, 2, 'a'}\n",
        "type(my_set)"
      ]
    },
    {
      "cell_type": "markdown",
      "metadata": {
        "id": "vkWyXwNHyJMQ"
      },
      "source": [
        "How many items are in this set?"
      ]
    },
    {
      "cell_type": "code",
      "execution_count": 39,
      "metadata": {
        "id": "_fndotIAyJMQ",
        "outputId": "04aef23d-627a-425e-93cd-d36d56ac280f",
        "colab": {
          "base_uri": "https://localhost:8080/"
        }
      },
      "outputs": [
        {
          "output_type": "execute_result",
          "data": {
            "text/plain": [
              "3"
            ]
          },
          "metadata": {},
          "execution_count": 39
        }
      ],
      "source": [
        "len(my_set)"
      ]
    },
    {
      "cell_type": "markdown",
      "metadata": {
        "id": "YiXpCv2IyJMQ"
      },
      "source": [
        "We put in 4 items but the set only has 3 because duplicates are removed:"
      ]
    },
    {
      "cell_type": "code",
      "execution_count": 40,
      "metadata": {
        "id": "IZFw_JR1yJMQ",
        "outputId": "f3e8382e-259a-4f47-9ba2-3958398e006e",
        "colab": {
          "base_uri": "https://localhost:8080/"
        }
      },
      "outputs": [
        {
          "output_type": "execute_result",
          "data": {
            "text/plain": [
              "{1, 2, 'a'}"
            ]
          },
          "metadata": {},
          "execution_count": 40
        }
      ],
      "source": [
        "my_set"
      ]
    },
    {
      "cell_type": "markdown",
      "metadata": {
        "id": "aoI0wn4AyJMQ"
      },
      "source": [
        "We can check if a value is in the set:"
      ]
    },
    {
      "cell_type": "code",
      "execution_count": 41,
      "metadata": {
        "id": "NSMW8pmgyJMQ",
        "outputId": "81629321-980e-4006-9e66-6754336f9c2c",
        "colab": {
          "base_uri": "https://localhost:8080/"
        }
      },
      "outputs": [
        {
          "output_type": "execute_result",
          "data": {
            "text/plain": [
              "True"
            ]
          },
          "metadata": {},
          "execution_count": 41
        }
      ],
      "source": [
        "2 in my_set"
      ]
    },
    {
      "cell_type": "markdown",
      "metadata": {
        "id": "ezK1wW3PyJMR"
      },
      "source": [
        "## Functions\n",
        "We can define functions to package up our code for reuse. We have already seen some functions: `len()`, `type()`, and `print()`. They are all functions that take **arguments**. Note that functions don't need to accept arguments, in which case they are called without passing in anything (e.g. `print()` versus `print(my_string)`). \n",
        "\n",
        "*Aside: we can also create lists, sets, dictionaries, and tuples with functions: `list()`, `set()`, `dict()`, and `tuple()`*\n",
        "\n",
        "### Defining functions\n",
        "\n",
        "We use the `def` keyword to define functions. Let's create a function called `add()` with 2 parameters, `x` and `y`, which will be the names the code in the function will use to refer to the arguments we pass in when calling it:"
      ]
    },
    {
      "cell_type": "code",
      "execution_count": 42,
      "metadata": {
        "id": "8tQepvhsyJMR"
      },
      "outputs": [],
      "source": [
        "def add(x, y):\n",
        "    \"\"\"This is a docstring. It is used to explain how the code works and is optional (but encouraged).\"\"\"\n",
        "    # this is a comment; it allows us to annotate the code\n",
        "    print('Performing addition')\n",
        "    return x + y"
      ]
    },
    {
      "cell_type": "markdown",
      "metadata": {
        "id": "bKPHxwVtyJMR"
      },
      "source": [
        "Once we run the code above, our function is ready to use:"
      ]
    },
    {
      "cell_type": "code",
      "execution_count": 43,
      "metadata": {
        "id": "dksM1oVpyJMR",
        "outputId": "9feb3556-de27-4470-9854-4b74b2ebd63d",
        "colab": {
          "base_uri": "https://localhost:8080/"
        }
      },
      "outputs": [
        {
          "output_type": "execute_result",
          "data": {
            "text/plain": [
              "function"
            ]
          },
          "metadata": {},
          "execution_count": 43
        }
      ],
      "source": [
        "type(add)"
      ]
    },
    {
      "cell_type": "markdown",
      "metadata": {
        "id": "L8aXWxqRyJMR"
      },
      "source": [
        "Let's add some numbers:"
      ]
    },
    {
      "cell_type": "code",
      "execution_count": 44,
      "metadata": {
        "id": "30qOQXPIyJMR",
        "outputId": "ce1c6fe9-537a-4fb8-e411-fa51c6d672de",
        "colab": {
          "base_uri": "https://localhost:8080/"
        }
      },
      "outputs": [
        {
          "output_type": "stream",
          "name": "stdout",
          "text": [
            "Performing addition\n"
          ]
        },
        {
          "output_type": "execute_result",
          "data": {
            "text/plain": [
              "3"
            ]
          },
          "metadata": {},
          "execution_count": 44
        }
      ],
      "source": [
        "add(1, 2)"
      ]
    },
    {
      "cell_type": "markdown",
      "metadata": {
        "id": "tamfzmZHyJMR"
      },
      "source": [
        "### Return values\n",
        "We can store the result in a variable for later:"
      ]
    },
    {
      "cell_type": "code",
      "execution_count": 45,
      "metadata": {
        "id": "2Jujy210yJMS",
        "outputId": "a383bac5-d350-4c4e-ee81-1962ee52a147",
        "colab": {
          "base_uri": "https://localhost:8080/"
        }
      },
      "outputs": [
        {
          "output_type": "stream",
          "name": "stdout",
          "text": [
            "Performing addition\n"
          ]
        }
      ],
      "source": [
        "result = add(1, 2)"
      ]
    },
    {
      "cell_type": "markdown",
      "metadata": {
        "id": "WMfhWMyDyJMS"
      },
      "source": [
        "Notice the print statement wasn't captured in `result`. This variable will only have what the function **returns**. This is what the `return` line in the function definition did:"
      ]
    },
    {
      "cell_type": "code",
      "execution_count": 46,
      "metadata": {
        "id": "LlQNpZtKyJMS",
        "outputId": "d085330a-31ea-48b7-c7aa-239233b19f23",
        "colab": {
          "base_uri": "https://localhost:8080/"
        }
      },
      "outputs": [
        {
          "output_type": "execute_result",
          "data": {
            "text/plain": [
              "3"
            ]
          },
          "metadata": {},
          "execution_count": 46
        }
      ],
      "source": [
        "result"
      ]
    },
    {
      "cell_type": "markdown",
      "metadata": {
        "id": "Z3sWxYDJyJMS"
      },
      "source": [
        "Note that functions don't have to return anything. Consider `print()`:"
      ]
    },
    {
      "cell_type": "code",
      "execution_count": 47,
      "metadata": {
        "id": "_PjA0iKDyJMS",
        "outputId": "fca6cf29-50d7-4fed-d000-53286e08e8c2",
        "colab": {
          "base_uri": "https://localhost:8080/"
        }
      },
      "outputs": [
        {
          "output_type": "stream",
          "name": "stdout",
          "text": [
            "hello world\n"
          ]
        }
      ],
      "source": [
        "print_result = print('hello world')"
      ]
    },
    {
      "cell_type": "markdown",
      "metadata": {
        "id": "nSXbzW9-yJMS"
      },
      "source": [
        "If we take a look at what we got back, we see it is a `NoneType` object:"
      ]
    },
    {
      "cell_type": "code",
      "execution_count": 48,
      "metadata": {
        "id": "4qRuP2nSyJMS",
        "outputId": "c86c7e42-96b8-4595-aeff-630b142ea998",
        "colab": {
          "base_uri": "https://localhost:8080/"
        }
      },
      "outputs": [
        {
          "output_type": "execute_result",
          "data": {
            "text/plain": [
              "NoneType"
            ]
          },
          "metadata": {},
          "execution_count": 48
        }
      ],
      "source": [
        "type(print_result)"
      ]
    },
    {
      "cell_type": "markdown",
      "metadata": {
        "id": "a0fjAEwjyJMT"
      },
      "source": [
        "In Python, the value `None` represents null values. We can check if our variable *is* `None`:"
      ]
    },
    {
      "cell_type": "code",
      "execution_count": 49,
      "metadata": {
        "id": "8xtasJG-yJMT",
        "outputId": "096432fc-10b2-4aa0-ba00-2c8dd936bc7e",
        "colab": {
          "base_uri": "https://localhost:8080/"
        }
      },
      "outputs": [
        {
          "output_type": "execute_result",
          "data": {
            "text/plain": [
              "True"
            ]
          },
          "metadata": {},
          "execution_count": 49
        }
      ],
      "source": [
        "print_result is None"
      ]
    },
    {
      "cell_type": "markdown",
      "metadata": {
        "id": "aKlot6EAyJMT"
      },
      "source": [
        "*Warning: make sure to use comparison operators (e.g. >, >=, <, <=, ==, !=) to compare to values other than `None`.*\n",
        "\n",
        "### Function arguments\n",
        "\n",
        "*Note that function arguments can be anything, even other functions. We will see several examples of this in the text.* \n",
        "\n",
        "The function we defined requires arguments. If we don't provide them all, it will cause an error:"
      ]
    },
    {
      "cell_type": "code",
      "execution_count": 50,
      "metadata": {
        "id": "WaSZJx1YyJMT",
        "outputId": "7541002a-8ce3-42a7-ee7c-5535ee76bee6",
        "colab": {
          "base_uri": "https://localhost:8080/",
          "height": 170
        }
      },
      "outputs": [
        {
          "output_type": "error",
          "ename": "TypeError",
          "evalue": "ignored",
          "traceback": [
            "\u001b[0;31m---------------------------------------------------------------------------\u001b[0m",
            "\u001b[0;31mTypeError\u001b[0m                                 Traceback (most recent call last)",
            "\u001b[0;32m<ipython-input-50-2558a051bacf>\u001b[0m in \u001b[0;36m<module>\u001b[0;34m\u001b[0m\n\u001b[0;32m----> 1\u001b[0;31m \u001b[0madd\u001b[0m\u001b[0;34m(\u001b[0m\u001b[0;36m1\u001b[0m\u001b[0;34m)\u001b[0m\u001b[0;34m\u001b[0m\u001b[0;34m\u001b[0m\u001b[0m\n\u001b[0m",
            "\u001b[0;31mTypeError\u001b[0m: add() missing 1 required positional argument: 'y'"
          ]
        }
      ],
      "source": [
        "add(1)"
      ]
    },
    {
      "cell_type": "markdown",
      "metadata": {
        "id": "b9FQwnvZyJMT"
      },
      "source": [
        "We can use `help()` to check what arguments the function needs (notice the docstring ends up here):"
      ]
    },
    {
      "cell_type": "code",
      "execution_count": 51,
      "metadata": {
        "id": "LU9JZFO2yJMT",
        "outputId": "01d4492f-cbbe-4b7e-e685-d629eab325df",
        "colab": {
          "base_uri": "https://localhost:8080/"
        }
      },
      "outputs": [
        {
          "output_type": "stream",
          "name": "stdout",
          "text": [
            "Help on function add in module __main__:\n",
            "\n",
            "add(x, y)\n",
            "    This is a docstring. It is used to explain how the code works and is optional (but encouraged).\n",
            "\n"
          ]
        }
      ],
      "source": [
        "help(add)"
      ]
    },
    {
      "cell_type": "markdown",
      "metadata": {
        "id": "kSkuVAnGyJMT"
      },
      "source": [
        "We will also get errors if we pass in data types that `add()` can't work with:"
      ]
    },
    {
      "cell_type": "code",
      "execution_count": 52,
      "metadata": {
        "id": "TL92hS-SyJMT",
        "outputId": "6debbfcc-5af2-4cc4-ca63-2cbcdc21eacd",
        "colab": {
          "base_uri": "https://localhost:8080/",
          "height": 277
        }
      },
      "outputs": [
        {
          "output_type": "stream",
          "name": "stdout",
          "text": [
            "Performing addition\n"
          ]
        },
        {
          "output_type": "error",
          "ename": "TypeError",
          "evalue": "ignored",
          "traceback": [
            "\u001b[0;31m---------------------------------------------------------------------------\u001b[0m",
            "\u001b[0;31mTypeError\u001b[0m                                 Traceback (most recent call last)",
            "\u001b[0;32m<ipython-input-52-9c946942295c>\u001b[0m in \u001b[0;36m<module>\u001b[0;34m\u001b[0m\n\u001b[0;32m----> 1\u001b[0;31m \u001b[0madd\u001b[0m\u001b[0;34m(\u001b[0m\u001b[0mset\u001b[0m\u001b[0;34m(\u001b[0m\u001b[0;34m)\u001b[0m\u001b[0;34m,\u001b[0m \u001b[0mset\u001b[0m\u001b[0;34m(\u001b[0m\u001b[0;34m)\u001b[0m\u001b[0;34m)\u001b[0m\u001b[0;34m\u001b[0m\u001b[0;34m\u001b[0m\u001b[0m\n\u001b[0m",
            "\u001b[0;32m<ipython-input-42-e34d07952248>\u001b[0m in \u001b[0;36madd\u001b[0;34m(x, y)\u001b[0m\n\u001b[1;32m      3\u001b[0m     \u001b[0;31m# this is a comment; it allows us to annotate the code\u001b[0m\u001b[0;34m\u001b[0m\u001b[0;34m\u001b[0m\u001b[0;34m\u001b[0m\u001b[0m\n\u001b[1;32m      4\u001b[0m     \u001b[0mprint\u001b[0m\u001b[0;34m(\u001b[0m\u001b[0;34m'Performing addition'\u001b[0m\u001b[0;34m)\u001b[0m\u001b[0;34m\u001b[0m\u001b[0;34m\u001b[0m\u001b[0m\n\u001b[0;32m----> 5\u001b[0;31m     \u001b[0;32mreturn\u001b[0m \u001b[0mx\u001b[0m \u001b[0;34m+\u001b[0m \u001b[0my\u001b[0m\u001b[0;34m\u001b[0m\u001b[0;34m\u001b[0m\u001b[0m\n\u001b[0m",
            "\u001b[0;31mTypeError\u001b[0m: unsupported operand type(s) for +: 'set' and 'set'"
          ]
        }
      ],
      "source": [
        "add(set(), set())"
      ]
    },
    {
      "cell_type": "markdown",
      "metadata": {
        "id": "o-U4718_yJMU"
      },
      "source": [
        "We will discuss error handling in the text.\n",
        "\n",
        "## Control Flow Statements\n",
        "Sometimes we want to vary the path the code takes based on some criteria. For this we have `if`, `elif`, and `else`. We can use `if` on its own:"
      ]
    },
    {
      "cell_type": "code",
      "execution_count": 68,
      "metadata": {
        "id": "vyPbxQ8wyJMU"
      },
      "outputs": [],
      "source": [
        "def make_positive(x):\n",
        "    \"\"\"Returns a positive x\"\"\"\n",
        "    if x < 0:\n",
        "        x *= -1\n",
        "    return x"
      ]
    },
    {
      "cell_type": "markdown",
      "metadata": {
        "id": "Yq_3Zk38yJMU"
      },
      "source": [
        "Calling this function with negative input causes the code under the `if` statement to run:"
      ]
    },
    {
      "cell_type": "code",
      "execution_count": 69,
      "metadata": {
        "id": "qIJvuc7eyJMU",
        "outputId": "8f3065f6-8a81-412d-cbed-8c51f291ef9d",
        "colab": {
          "base_uri": "https://localhost:8080/"
        }
      },
      "outputs": [
        {
          "output_type": "execute_result",
          "data": {
            "text/plain": [
              "1"
            ]
          },
          "metadata": {},
          "execution_count": 69
        }
      ],
      "source": [
        "make_positive(-1)"
      ]
    },
    {
      "cell_type": "markdown",
      "metadata": {
        "id": "KYP4SIMpyJMU"
      },
      "source": [
        "Calling this function with positive input skips the code under the `if` statement, keeping the number positive:"
      ]
    },
    {
      "cell_type": "code",
      "execution_count": 70,
      "metadata": {
        "id": "r0FgbjK6yJMU",
        "outputId": "02db6f8f-56a9-4394-ac6f-32c6b8a2f359",
        "colab": {
          "base_uri": "https://localhost:8080/"
        }
      },
      "outputs": [
        {
          "output_type": "execute_result",
          "data": {
            "text/plain": [
              "2"
            ]
          },
          "metadata": {},
          "execution_count": 70
        }
      ],
      "source": [
        "make_positive(2)"
      ]
    },
    {
      "cell_type": "markdown",
      "metadata": {
        "id": "XueYJJJFyJMU"
      },
      "source": [
        "Sometimes we need an `else` statement as well:"
      ]
    },
    {
      "cell_type": "code",
      "execution_count": 71,
      "metadata": {
        "id": "F1cUsFgVyJMU"
      },
      "outputs": [],
      "source": [
        "def add_or_subtract(operation, x, y):\n",
        "    if operation == 'add':\n",
        "        return x + y\n",
        "    else:\n",
        "        return x - y"
      ]
    },
    {
      "cell_type": "markdown",
      "metadata": {
        "id": "_NVxy9cfyJMV"
      },
      "source": [
        "This triggers the code under the `if` statement:"
      ]
    },
    {
      "cell_type": "code",
      "execution_count": 72,
      "metadata": {
        "id": "md5KoPTwyJMV",
        "outputId": "f1742406-ef73-4c8c-87a6-8420f826e967",
        "colab": {
          "base_uri": "https://localhost:8080/"
        }
      },
      "outputs": [
        {
          "output_type": "execute_result",
          "data": {
            "text/plain": [
              "3"
            ]
          },
          "metadata": {},
          "execution_count": 72
        }
      ],
      "source": [
        "add_or_subtract('add', 1, 2)"
      ]
    },
    {
      "cell_type": "markdown",
      "metadata": {
        "id": "7gIAzAb1yJMV"
      },
      "source": [
        "Since the Boolean check in the `if` statement was `False`, this triggers the code under the `else` statement:"
      ]
    },
    {
      "cell_type": "code",
      "execution_count": 73,
      "metadata": {
        "id": "rA_KamfFyJMV",
        "outputId": "ab61c22a-719b-40f0-cd42-ea8002a194bb",
        "colab": {
          "base_uri": "https://localhost:8080/"
        }
      },
      "outputs": [
        {
          "output_type": "execute_result",
          "data": {
            "text/plain": [
              "-1"
            ]
          },
          "metadata": {},
          "execution_count": 73
        }
      ],
      "source": [
        "add_or_subtract('subtract', 1, 2)"
      ]
    },
    {
      "cell_type": "markdown",
      "metadata": {
        "id": "kKtN58jkyJMV"
      },
      "source": [
        "For more complicated logic, we can also use `elif`. We can have any number of `elif` statements. Optionally, we can include `else`."
      ]
    },
    {
      "cell_type": "code",
      "execution_count": 74,
      "metadata": {
        "id": "Dppix1bLyJMV"
      },
      "outputs": [],
      "source": [
        "def calculate(operation, x, y):\n",
        "    if operation == 'add':\n",
        "        return x + y\n",
        "    elif operation == 'subtract':\n",
        "        return x - y\n",
        "    elif operation == 'multiply':\n",
        "        return x * y\n",
        "    elif operation == 'division':\n",
        "        return x / y\n",
        "    else:\n",
        "        print(\"This case hasn't been handled\")"
      ]
    },
    {
      "cell_type": "markdown",
      "metadata": {
        "id": "isafwrlXyJMV"
      },
      "source": [
        "The code keeps checking the conditions in the `if` statements from top to bottom until it finds `multiply`:"
      ]
    },
    {
      "cell_type": "code",
      "execution_count": 75,
      "metadata": {
        "id": "B6dBbrqDyJMV",
        "outputId": "44a46599-4032-4d7a-96e3-2dfa81ddbac9",
        "colab": {
          "base_uri": "https://localhost:8080/"
        }
      },
      "outputs": [
        {
          "output_type": "execute_result",
          "data": {
            "text/plain": [
              "12"
            ]
          },
          "metadata": {},
          "execution_count": 75
        }
      ],
      "source": [
        "calculate('multiply', 3, 4)"
      ]
    },
    {
      "cell_type": "markdown",
      "metadata": {
        "id": "3jOaAHnuyJMW"
      },
      "source": [
        "The code keeps checking the conditions in the `if` statements from top to bottom until it hits the `else` statement:"
      ]
    },
    {
      "cell_type": "code",
      "execution_count": 76,
      "metadata": {
        "id": "dqYcVWBZyJMW",
        "outputId": "1632dd4f-ebe9-4fa8-8cce-ba388fbad11e",
        "colab": {
          "base_uri": "https://localhost:8080/"
        }
      },
      "outputs": [
        {
          "output_type": "stream",
          "name": "stdout",
          "text": [
            "This case hasn't been handled\n"
          ]
        }
      ],
      "source": [
        "calculate('power', 3, 4)"
      ]
    },
    {
      "cell_type": "markdown",
      "metadata": {
        "id": "lzAfp1nByJMW"
      },
      "source": [
        "## Loops\n",
        "### `while` loops\n",
        "With `while` loops, we can keep running code until some stopping condition is met:"
      ]
    },
    {
      "cell_type": "code",
      "execution_count": 77,
      "metadata": {
        "id": "crfD0gfqyJMW",
        "outputId": "35657c16-cce3-4c8e-89e3-ea0acf762260",
        "colab": {
          "base_uri": "https://localhost:8080/"
        }
      },
      "outputs": [
        {
          "output_type": "stream",
          "name": "stdout",
          "text": [
            "Still going... 2\n",
            "Still going... 4\n",
            "Still going... 8\n"
          ]
        }
      ],
      "source": [
        "done = False\n",
        "value = 2\n",
        "while not done:\n",
        "    print('Still going...', value)\n",
        "    value *= 2\n",
        "    if value > 10:\n",
        "        done = True"
      ]
    },
    {
      "cell_type": "markdown",
      "metadata": {
        "id": "ioYGYx8MyJMW"
      },
      "source": [
        "Note this can also be written as, by moving the condition to the `while` statement:"
      ]
    },
    {
      "cell_type": "code",
      "execution_count": 78,
      "metadata": {
        "id": "T9-0V1MKyJMW",
        "outputId": "8c56b23e-6341-4f1c-9c3e-d144b09622dd",
        "colab": {
          "base_uri": "https://localhost:8080/"
        }
      },
      "outputs": [
        {
          "output_type": "stream",
          "name": "stdout",
          "text": [
            "Still going... 2\n",
            "Still going... 4\n",
            "Still going... 8\n"
          ]
        }
      ],
      "source": [
        "value = 2\n",
        "while value < 10:\n",
        "    print('Still going...', value)\n",
        "    value *= 2"
      ]
    },
    {
      "cell_type": "markdown",
      "metadata": {
        "id": "FLknldaNyJMW"
      },
      "source": [
        "### `for` loops\n",
        "With `for` loops, we can run our code *for each* element in a collection:"
      ]
    },
    {
      "cell_type": "code",
      "execution_count": 79,
      "metadata": {
        "id": "JDC_fWQPyJMW",
        "outputId": "2eb7c069-7faf-4276-ef17-b1eac2fd8e07",
        "colab": {
          "base_uri": "https://localhost:8080/"
        }
      },
      "outputs": [
        {
          "output_type": "stream",
          "name": "stdout",
          "text": [
            "0\n",
            "1\n",
            "2\n",
            "3\n",
            "4\n"
          ]
        }
      ],
      "source": [
        "for i in range(5):\n",
        "    print(i)"
      ]
    },
    {
      "cell_type": "markdown",
      "metadata": {
        "id": "Vmruq5FlyJMX"
      },
      "source": [
        "We can use `for` loops with lists, tuples, sets, and dictionaries as well:"
      ]
    },
    {
      "cell_type": "code",
      "execution_count": 80,
      "metadata": {
        "id": "iYbhr_LpyJMX",
        "outputId": "d6aba62b-3364-4029-a8c1-efbef82c0fe1",
        "colab": {
          "base_uri": "https://localhost:8080/"
        }
      },
      "outputs": [
        {
          "output_type": "stream",
          "name": "stdout",
          "text": [
            "hello\n",
            "3.8\n",
            "True\n",
            "Python\n"
          ]
        }
      ],
      "source": [
        "for element in my_list:\n",
        "    print(element)"
      ]
    },
    {
      "cell_type": "code",
      "execution_count": 81,
      "metadata": {
        "id": "X7xE_j7FyJMX",
        "outputId": "f8d1c6bc-f71d-421d-d8de-5916c79bd922",
        "colab": {
          "base_uri": "https://localhost:8080/"
        }
      },
      "outputs": [
        {
          "output_type": "stream",
          "name": "stdout",
          "text": [
            "For veggies we need to buy ['spinach', 'kale', 'beets']\n",
            "For fruits we need to buy bananas\n",
            "For meat we need to buy 0\n"
          ]
        }
      ],
      "source": [
        "for key, value in shopping_list.items():\n",
        "    print('For', key, 'we need to buy', value)"
      ]
    },
    {
      "cell_type": "markdown",
      "metadata": {
        "id": "lmE6ljH2yJMX"
      },
      "source": [
        "With `for` loops, we don't have to worry about checking if we have reached the stopping condition. Conversely, `while` loops can cause infinite loops if we don't remember to update variables.\n",
        "\n",
        "## Imports\n",
        "We have been working with the portion of Python that is available without importing additional functionality. The Python standard library that comes with the install of Python is broken up into several **modules**, but we often only need a few. We can import whatever we need: a module in the standard library, a 3rd-party library, or code that we wrote. This is done with an `import` statement:"
      ]
    },
    {
      "cell_type": "code",
      "execution_count": 82,
      "metadata": {
        "id": "02rHAe0gyJMX",
        "outputId": "126c6745-a0fb-4195-a809-fe77e3ff05e7",
        "colab": {
          "base_uri": "https://localhost:8080/"
        }
      },
      "outputs": [
        {
          "output_type": "stream",
          "name": "stdout",
          "text": [
            "3.141592653589793\n"
          ]
        }
      ],
      "source": [
        "import math\n",
        "\n",
        "print(math.pi)"
      ]
    },
    {
      "cell_type": "markdown",
      "metadata": {
        "id": "xvpYE-42yJMX"
      },
      "source": [
        "If we only need a small piece from that module, we can do the following instead:"
      ]
    },
    {
      "cell_type": "code",
      "execution_count": 83,
      "metadata": {
        "id": "A3hXybW8yJMX",
        "outputId": "3140bc4e-60a6-487f-edf0-cbb408260b4d",
        "colab": {
          "base_uri": "https://localhost:8080/"
        }
      },
      "outputs": [
        {
          "output_type": "stream",
          "name": "stdout",
          "text": [
            "3.141592653589793\n"
          ]
        }
      ],
      "source": [
        "from math import pi\n",
        "\n",
        "print(pi)"
      ]
    },
    {
      "cell_type": "markdown",
      "metadata": {
        "id": "DoJ6qMiSyJMX"
      },
      "source": [
        "*Warning: anything you import is added to the namespace, so if you create a new variable/function/etc. with the same name it will overwrite the previous value. For this reason, we have to be careful with variable names e.g. if you name something `sum`, you won't be able to add using the `sum()` built-in function anymore. Using notebooks or an IDE will help you avoid these issues with syntax highlighting.* \n",
        "\n",
        "## Installing 3rd-party Packages\n",
        "**NOTE: We will cover the environment setup in the text; this is for reference.**\n",
        "\n",
        "We can use [`pip`](https://pip.pypa.io/en/stable/reference/) or [`conda`](https://docs.conda.io/projects/conda/en/latest/commands.html) to install packages, depending on how we created our virtual environment. The text walks through the commands to create virtual environments with `venv` and `conda`. The environment **MUST** be activated before installing the packages for this text; otherwise, it's possible they interfere with other projects on your machine or vice versa.\n",
        "\n",
        "To install a package, we can use `pip3 install <package_name>`. Optionally, we can provide a specific version to install `pip3 install pandas==0.23.4`. Without that specification, we will get the most stable version. When we have many packages to install (as we do for this book), we will typically use a `requirements.txt` file: `pip3 install -r requirements.txt`. \n",
        "\n",
        "*Note: running `pip3 freeze > requirements.txt` will send the list of packages installed in the activate environment and their respective versions to the `requirements.txt` file.*\n",
        "\n",
        "\n",
        "## Classes\n",
        "*NOTE: We will discuss this further in the text in chapter 7. For now, it is important to be aware of the syntax in this section.*\n",
        "\n",
        "So far we have used Python as a functional programming language, but we also have the option to use it for **object-oriented programming**. You can think of a `class` as a way to group similar functionality together. Let's create a calculator class which can handle mathematical operations for us. For this, we use the `class` keyword and define **methods** for taking actions on the calculator. These methods are functions that take `self` as the first argument. When calling them, we don't pass in anything for that argument (example after this):"
      ]
    },
    {
      "cell_type": "code",
      "execution_count": 84,
      "metadata": {
        "id": "k59ME_hhyJMY"
      },
      "outputs": [],
      "source": [
        "class Calculator:\n",
        "    \"\"\"This is the class docstring.\"\"\"\n",
        "    \n",
        "    def __init__(self):\n",
        "        \"\"\"This is a method and it is called when we create an object of type `Calculator`.\"\"\"\n",
        "        self.on = False\n",
        "        \n",
        "    def turn_on(self):\n",
        "        \"\"\"This method turns on the calculator.\"\"\"\n",
        "        self.on = True\n",
        "    \n",
        "    def add(self, x, y):\n",
        "        \"\"\"Perform addition if calculator is on\"\"\"\n",
        "        if self.on:\n",
        "            return x + y\n",
        "        else:\n",
        "            print('the calculator is not on')"
      ]
    },
    {
      "cell_type": "markdown",
      "metadata": {
        "id": "IRWs53kMyJMY"
      },
      "source": [
        "In order to use the calculator, we need to **instantiate** an instance or object of type `Calculator`. Since the `__init__()` method has no parameters other than `self`, we don't need to provide anything:"
      ]
    },
    {
      "cell_type": "code",
      "execution_count": 85,
      "metadata": {
        "id": "nR9FEy19yJMY"
      },
      "outputs": [],
      "source": [
        "my_calculator = Calculator()"
      ]
    },
    {
      "cell_type": "markdown",
      "metadata": {
        "id": "T4dQHxuGyJMY"
      },
      "source": [
        "Let's try to add some numbers:"
      ]
    },
    {
      "cell_type": "code",
      "execution_count": 86,
      "metadata": {
        "id": "ONCdDD95yJMY",
        "outputId": "22f0b6cf-fab9-49f7-ed5d-1e135a39b99b",
        "colab": {
          "base_uri": "https://localhost:8080/"
        }
      },
      "outputs": [
        {
          "output_type": "stream",
          "name": "stdout",
          "text": [
            "the calculator is not on\n"
          ]
        }
      ],
      "source": [
        "my_calculator.add(1, 2)"
      ]
    },
    {
      "cell_type": "markdown",
      "metadata": {
        "id": "EAE86BiCyJMY"
      },
      "source": [
        "Oops!! The calculator is not on. Let's turn it on:"
      ]
    },
    {
      "cell_type": "code",
      "execution_count": 87,
      "metadata": {
        "id": "G9XdvytIyJMY"
      },
      "outputs": [],
      "source": [
        "my_calculator.turn_on()"
      ]
    },
    {
      "cell_type": "markdown",
      "metadata": {
        "id": "rtmLCa0IyJMZ"
      },
      "source": [
        "Let's try again:"
      ]
    },
    {
      "cell_type": "code",
      "execution_count": 88,
      "metadata": {
        "id": "7L0OE84LyJMZ",
        "outputId": "f00a8014-4bcd-42c7-f7d6-faf9a88292e0",
        "colab": {
          "base_uri": "https://localhost:8080/"
        }
      },
      "outputs": [
        {
          "output_type": "execute_result",
          "data": {
            "text/plain": [
              "3"
            ]
          },
          "metadata": {},
          "execution_count": 88
        }
      ],
      "source": [
        "my_calculator.add(1, 2)"
      ]
    },
    {
      "cell_type": "markdown",
      "metadata": {
        "id": "MesEusXLyJMZ"
      },
      "source": [
        "We can access **attributes** on object with dot notation. In this example, the only attribute is `on`, and it is set in the `__init__()` method:"
      ]
    },
    {
      "cell_type": "code",
      "execution_count": 89,
      "metadata": {
        "id": "m7YBOKpkyJMZ",
        "outputId": "20e263e1-2680-4156-e05d-b5bd82f37af4",
        "colab": {
          "base_uri": "https://localhost:8080/"
        }
      },
      "outputs": [
        {
          "output_type": "execute_result",
          "data": {
            "text/plain": [
              "True"
            ]
          },
          "metadata": {},
          "execution_count": 89
        }
      ],
      "source": [
        "my_calculator.on"
      ]
    },
    {
      "cell_type": "markdown",
      "metadata": {
        "id": "m5IFtQnLyJMZ"
      },
      "source": [
        "Note that we can also update attributes:"
      ]
    },
    {
      "cell_type": "code",
      "execution_count": 90,
      "metadata": {
        "id": "Dsb32IZJyJMZ",
        "outputId": "fd9e4013-c4e5-4c75-a61c-8bf31e0cdbbe",
        "colab": {
          "base_uri": "https://localhost:8080/"
        }
      },
      "outputs": [
        {
          "output_type": "stream",
          "name": "stdout",
          "text": [
            "the calculator is not on\n"
          ]
        }
      ],
      "source": [
        "my_calculator.on = False\n",
        "my_calculator.add(1, 2)"
      ]
    },
    {
      "cell_type": "markdown",
      "metadata": {
        "id": "FzSyACs_yJMZ"
      },
      "source": [
        "Finally, we can use `help()` to get more information on the object:"
      ]
    },
    {
      "cell_type": "code",
      "execution_count": 91,
      "metadata": {
        "id": "Yo9nZv4vyJMZ",
        "outputId": "47fd48e6-d14f-4f7d-ca9f-7836cf588e5a",
        "colab": {
          "base_uri": "https://localhost:8080/"
        }
      },
      "outputs": [
        {
          "output_type": "stream",
          "name": "stdout",
          "text": [
            "Help on Calculator in module __main__ object:\n",
            "\n",
            "class Calculator(builtins.object)\n",
            " |  This is the class docstring.\n",
            " |  \n",
            " |  Methods defined here:\n",
            " |  \n",
            " |  __init__(self)\n",
            " |      This is a method and it is called when we create an object of type `Calculator`.\n",
            " |  \n",
            " |  add(self, x, y)\n",
            " |      Perform addition if calculator is on\n",
            " |  \n",
            " |  turn_on(self)\n",
            " |      This method turns on the calculator.\n",
            " |  \n",
            " |  ----------------------------------------------------------------------\n",
            " |  Data descriptors defined here:\n",
            " |  \n",
            " |  __dict__\n",
            " |      dictionary for instance variables (if defined)\n",
            " |  \n",
            " |  __weakref__\n",
            " |      list of weak references to the object (if defined)\n",
            "\n"
          ]
        }
      ],
      "source": [
        "help(my_calculator)"
      ]
    },
    {
      "cell_type": "markdown",
      "metadata": {
        "id": "g0V9e6a9yJMa"
      },
      "source": [
        "... and also for a method:"
      ]
    },
    {
      "cell_type": "code",
      "execution_count": 92,
      "metadata": {
        "id": "2LSRYVHIyJMa",
        "outputId": "08deb03b-83f2-412a-b76a-04e57bd900c3",
        "colab": {
          "base_uri": "https://localhost:8080/"
        }
      },
      "outputs": [
        {
          "output_type": "stream",
          "name": "stdout",
          "text": [
            "Help on method add in module __main__:\n",
            "\n",
            "add(x, y) method of __main__.Calculator instance\n",
            "    Perform addition if calculator is on\n",
            "\n"
          ]
        }
      ],
      "source": [
        "help(my_calculator.add)"
      ]
    },
    {
      "cell_type": "markdown",
      "metadata": {
        "id": "F_iu588CyJMa"
      },
      "source": [
        "## Next Steps\n",
        "This was a crash course in Python. By no means are you expected to be an expert in the language to start working through the text. Take some time to play around with this notebook before trying [this chapter's exercises](./exercises.ipynb).\n",
        "\n",
        "<hr>\n",
        "<div style=\"overflow: hidden; margin-bottom: 10px;\">\n",
        "    <div style=\"float: left;\">\n",
        "         <a href=\"./introduction_to_data_analysis.ipynb\">\n",
        "            <button>&#8592; Introduction to Data Analysis</button>\n",
        "        </a>\n",
        "    </div>\n",
        "    <div style=\"float: right;\">\n",
        "        <a href=\"./check_your_setup.ipynb\">\n",
        "            <button>Check your Setup</button>\n",
        "        </a>\n",
        "        <a href=\"./exercises.ipynb\">\n",
        "            <button>Chapter 1 Exercises &#8594;</button>\n",
        "        </a>\n",
        "    </div>\n",
        "</div>\n",
        "<hr>"
      ]
    }
  ],
  "metadata": {
    "kernelspec": {
      "display_name": "Python 3",
      "language": "python",
      "name": "python3"
    },
    "language_info": {
      "codemirror_mode": {
        "name": "ipython",
        "version": 3
      },
      "file_extension": ".py",
      "mimetype": "text/x-python",
      "name": "python",
      "nbconvert_exporter": "python",
      "pygments_lexer": "ipython3",
      "version": "3.7.3"
    },
    "colab": {
      "provenance": []
    }
  },
  "nbformat": 4,
  "nbformat_minor": 0
}